{
 "cells": [
  {
   "cell_type": "markdown",
   "id": "southeast-refrigerator",
   "metadata": {},
   "source": [
    "# Задача 1. «Треугольник с максимальным периметром»\n",
    "Массив A состоит из целых положительных чисел длин отрезков. Составьте из трех отрезков такой треугольник, чтобы его периметр был максимально возможным. Если невозможно составить треугольник с положительной площадью функция возвращает 0."
   ]
  },
  {
   "cell_type": "code",
   "execution_count": 14,
   "id": "detailed-symbol",
   "metadata": {},
   "outputs": [
    {
     "name": "stdout",
     "output_type": "stream",
     "text": [
      "[3, 2, 3, 4] = Максимальный периметр: 10\n",
      "[1, 2, 1] = Невозможно составить треугольник с положительной площадью\n",
      "[3, 2, 3, 4] = Максимальный периметр: 10\n",
      "[3, 6, 2, 3] = Максимальный периметр: 8\n"
     ]
    }
   ],
   "source": [
    "def maxPerimeter(arr):\n",
    "    maximum = 0\n",
    "    n = len(arr)\n",
    "    for i in range(n - 2):\n",
    "        for j in range(i + 1, n - 1):\n",
    "            for k in range(j + 1, n):  \n",
    "                # a, b, c - 3 стороны\n",
    "                a = arr[i]\n",
    "                b = arr[j]\n",
    "                c = arr[k]\n",
    "                if(a < b + c and b < a + c \n",
    "                             and c < a + b):\n",
    "                    maximum = max(maximum, a + b + c)\n",
    "    if(maximum == 0):\n",
    "        return (\"Невозможно составить треугольник с положительной площадью\")\n",
    "    else:\n",
    "        return (\"Максимальный периметр: \"+ str(maximum))    \n",
    "    \n",
    "arr = [3,2,3,4]\n",
    "print(arr,\"=\", maxPerimeter(arr))\n",
    "arr = [1, 2, 1]\n",
    "print(arr,\"=\", maxPerimeter(arr))\n",
    "arr = [3, 2, 3, 4]\n",
    "print(arr,\"=\", maxPerimeter(arr))\n",
    "arr = [3, 6, 2, 3]\n",
    "print(arr,\"=\", maxPerimeter(arr))\n"
   ]
  },
  {
   "cell_type": "markdown",
   "id": "incomplete-fleece",
   "metadata": {},
   "source": [
    "# Задача 2. «Максимальное число»\n",
    "Дан массив неотрицательных целых чисел nums. Расположите их в таком порядке, чтобы вместе они образовали максимально возможное число."
   ]
  },
  {
   "cell_type": "code",
   "execution_count": 15,
   "id": "valued-notebook",
   "metadata": {},
   "outputs": [
    {
     "name": "stdout",
     "output_type": "stream",
     "text": [
      "[10, 2] = 210\n",
      "[3, 30, 34, 5, 9] = 9534330\n",
      "[1] = 1\n",
      "[10, 28] = 2810\n"
     ]
    }
   ],
   "source": [
    "def maxNum(arr):\n",
    "    def bigger(a, b):\n",
    "        ab = int(str(a) + str(b))\n",
    "        ba = int(str(b) + str(a))\n",
    "        if ab > ba:\n",
    "            return True\n",
    "        else:\n",
    "            return False\n",
    "    \n",
    "    def sortArr(arr):\n",
    "        for i in range(len(arr) - 1):\n",
    "            biggest = i\n",
    "            for j in range(i + 1, len(arr)):\n",
    "                if not bigger(arr[biggest], arr[j]):\n",
    "                    biggest = j\n",
    "            arr[i], arr[biggest] = arr[biggest], arr[i]\n",
    "    \n",
    "    sortArr(arr)\n",
    "    return ''.join(str(e) for e in arr)\n",
    "\n",
    "\n",
    "print(\"[10, 2] =\", maxNum([10,2]))\n",
    "print(\"[3, 30, 34, 5, 9] =\", maxNum([3,30,34,5,9]))\n",
    "print(\"[1] =\", maxNum([1]))\n",
    "print(\"[10, 28] =\", maxNum([10, 28]))"
   ]
  },
  {
   "cell_type": "markdown",
   "id": "coated-canadian",
   "metadata": {},
   "source": [
    "# Задача 3. «Сортировка диагоналей в матрице»\n",
    "Дана матрица mat размером m * n, значения - целочисленные. Напишите функцию, сортирующую каждую диагональ матрицы по возрастанию и возвращающую получившуюся матрицу."
   ]
  },
  {
   "cell_type": "code",
   "execution_count": 17,
   "id": "bright-tattoo",
   "metadata": {},
   "outputs": [
    {
     "name": "stdout",
     "output_type": "stream",
     "text": [
      "Матрица 1:\n",
      "[3, 3, 1, 1]\n",
      "[2, 2, 1, 2]\n",
      "[1, 1, 1, 2]\n",
      "Отсортированная 1: \n",
      "[1, 1, 1, 1]\n",
      "[1, 2, 2, 2]\n",
      "[1, 2, 3, 3]\n",
      "Матрица 2:\n",
      "[11, 25, 66, 1, 69, 7]\n",
      "[23, 55, 17, 45, 15, 52]\n",
      "[75, 31, 36, 44, 58, 8]\n",
      "[22, 27, 33, 25, 68, 4]\n",
      "[84, 28, 14, 11, 5, 50]\n",
      "Отсортированная 2: \n",
      "[5, 17, 4, 1, 52, 7]\n",
      "[11, 11, 25, 45, 8, 69]\n",
      "[14, 23, 25, 44, 58, 15]\n",
      "[22, 27, 31, 36, 50, 66]\n",
      "[84, 28, 75, 33, 55, 68]\n"
     ]
    }
   ],
   "source": [
    "def sortDiag(mat):\n",
    "    # Размер матрицы\n",
    "    m, n = len(mat), len(mat[0])\n",
    "    \n",
    "    # Пустой массив для диагоналей исходной матрицы\n",
    "    temp = [[] for i in range(m+n)]\n",
    "            \n",
    "    # Добавляем каждую диагональ в массив \n",
    "    for i in range(m):\n",
    "        for j in range(n):\n",
    "            temp[i - j].append(mat[i][j])\n",
    "    \n",
    "    # Сортируем каждую диагональ (т.е линию) массива\n",
    "    for line in temp:\n",
    "        line.sort(reverse = True)\n",
    "    \n",
    "    # \"Линии\" в диагонали матрицы\n",
    "    for i in range(m):\n",
    "        for j in range(n):\n",
    "            # pop() удаляет последний элемент массива и возвращает его\n",
    "            mat[i][j] = temp[i-j].pop()\n",
    "    return mat\n",
    "\n",
    "arr = [[3,3,1,1], [2,2,1,2], [1,1,1,2]]\n",
    "print(\"Матрица 1:\")\n",
    "for l in arr:\n",
    "    print(l) \n",
    "print(\"Отсортированная 1: \")\n",
    "arr = sortDiag(arr)\n",
    "for l in arr:\n",
    "    print(l)\n",
    "arr = [[11, 25, 66, 1, 69, 7], [23, 55, 17, 45, 15, 52], [75, 31, 36, 44, 58, 8], [22, 27, 33, 25, 68, 4], [84, 28, 14, 11, 5, 50]]\n",
    "print(\"Матрица 2:\")\n",
    "for l in arr:\n",
    "    print(l)\n",
    "    \n",
    "print(\"Отсортированная 2: \")\n",
    "arr = sortDiag(arr)\n",
    "for l in arr:\n",
    "    print(l)"
   ]
  },
  {
   "cell_type": "markdown",
   "id": "floating-grenada",
   "metadata": {},
   "source": [
    "# Задача 4. «Шарики и стрелы»\n",
    "Некоторые сферические шарики распределены по двухмерному пространству. Для каждого\n",
    "шарика даны x­координаты начала и конца его горизонтального диаметра. Так как пространство\n",
    "двумерно, то y­координаты не имеют значения в данной задаче. Координата xstart всегда меньше\n",
    "xend.\n",
    "Стрелу можно выстрелить строго вертикально (вдоль y­оси) из разных точек x­оси. Шарик\n",
    "с координатами xstart и xend уничтожается стрелой, если она была выпущена из такой позиции\n",
    "x, что xstart ⩽ x ⩽ xend. Когда стрела выпущена, она летит в пространстве бесконечное время\n",
    "(уничтожая все шарики на пути).\n",
    "Дан массив points, где points[i] = [xstart, xend]. Напишите функцию, возвращающую минимальное количество стрел, которые нужно выпустить, чтобы уничтожить все шарики"
   ]
  },
  {
   "cell_type": "code",
   "execution_count": 13,
   "id": "loose-knife",
   "metadata": {},
   "outputs": [
    {
     "name": "stdout",
     "output_type": "stream",
     "text": [
      "Массив = [[1, 6], [2, 8], [7, 12], [10, 16], [71, 670], [100, 200], [284, 856], [293, 656], [332, 875], [345, 594], [349, 866], [530, 711]]\n",
      "\n",
      "Количество выстрелов:  4\n"
     ]
    }
   ],
   "source": [
    "import random\n",
    "\n",
    "# Генерация матрицы\n",
    "def generate_arrG(size):\n",
    "    arrG = []\n",
    "    for i in range(size):\n",
    "        arrG.append(random.randint(0, 1000))\n",
    "\n",
    "    arrG.sort()\n",
    "    return arrG\n",
    "\n",
    "# Сортировка массива\n",
    "def sort_arrS(arrG):\n",
    "    for i in range(len(arrG) - 1):\n",
    "        min_Xstart = arrG[i][0]\n",
    "        min_index = i\n",
    "        for j in range(i + 1, len(arrG)):\n",
    "            if min_Xstart > arrG[j][0]:\n",
    "                min_index = j\n",
    "                min_Xstart = arrG[j][0]\n",
    "                \n",
    "        if not min_index==i:\n",
    "            arrG[min_index],arrG[i]=arrG[i],arrG[min_index]\n",
    "\n",
    "\n",
    "def exercise():\n",
    "    \n",
    "    # Генерация массива\n",
    "    points=[]\n",
    "    size = 8\n",
    "    for i in range(size):\n",
    "        points.append(generate_arrG(2))\n",
    "        \n",
    "    sort_arrS(points)\n",
    "    print(\"Массив =\", points)\n",
    "    \n",
    "    shots=0\n",
    "    \n",
    "    while len(points)>0:           \n",
    "        k_index=0\n",
    "        i = 1\n",
    "        while i<len(points) and points[i - 1][1]>=points[i][0] and points[0][1]>=points[i][0]:\n",
    "            i+=1\n",
    "            k_index+=1\n",
    "\n",
    "        while k_index>=0:\n",
    "            del points[k_index]\n",
    "            k_index-=1\n",
    "\n",
    "        shots+=1\n",
    "        \n",
    "    print(\"\\nКоличество выстрелов: \",shots)\n",
    "\n",
    "exercise()"
   ]
  },
  {
   "cell_type": "code",
   "execution_count": null,
   "id": "satisfactory-orientation",
   "metadata": {},
   "outputs": [],
   "source": []
  }
 ],
 "metadata": {
  "kernelspec": {
   "display_name": "Python 3",
   "language": "python",
   "name": "python3"
  },
  "language_info": {
   "codemirror_mode": {
    "name": "ipython",
    "version": 3
   },
   "file_extension": ".py",
   "mimetype": "text/x-python",
   "name": "python",
   "nbconvert_exporter": "python",
   "pygments_lexer": "ipython3",
   "version": "3.8.5"
  }
 },
 "nbformat": 4,
 "nbformat_minor": 5
}
